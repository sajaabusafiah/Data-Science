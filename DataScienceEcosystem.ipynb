{
  "nbformat": 4,
  "nbformat_minor": 0,
  "metadata": {
    "colab": {
      "provenance": [],
      "toc_visible": true
    },
    "kernelspec": {
      "name": "python3",
      "display_name": "Python 3"
    },
    "language_info": {
      "name": "python"
    }
  },
  "cells": [
    {
      "cell_type": "code",
      "execution_count": null,
      "metadata": {
        "id": "mtGXAlshP2pu"
      },
      "outputs": [],
      "source": []
    },
    {
      "cell_type": "markdown",
      "source": [
        "# Data Science Tools and Ecosystem\n",
        "\n"
      ],
      "metadata": {
        "id": "e1sh2KfnQAHb"
      }
    },
    {
      "cell_type": "markdown",
      "source": [
        "In this notebook, Data Science Tools and Ecosystem are summarized."
      ],
      "metadata": {
        "id": "201ugLlvRGij"
      }
    },
    {
      "cell_type": "markdown",
      "source": [
        "**Objectives:**\n",
        "- List popular languages for Data Science\n",
        "- Identify commonly used libraries for Data Science\n",
        "- Demonstrate arithmetic expressions in Python\n",
        "- Understand how to use GitHub for version control"
      ],
      "metadata": {
        "id": "z_uJeXi3YdAR"
      }
    },
    {
      "cell_type": "markdown",
      "source": [
        "Some of the popular languages that Data Scientists use are:\n",
        "\n",
        "\n",
        "1. Python\n",
        "2. R\n",
        "3. SQL\n",
        "4. Julia\n",
        "\n",
        "\n",
        "\n"
      ],
      "metadata": {
        "id": "J8DHtT5xRZ-q"
      }
    },
    {
      "cell_type": "markdown",
      "source": [
        "\n",
        "Some of the commonly used libraries used by Data Scientists include:\n",
        "- Pandas\n",
        "- NumPy\n",
        "- Matplotlib\n",
        "- Scikit-learn\n",
        "- TensorFlow\n",
        "- PyTorch\n",
        "\n"
      ],
      "metadata": {
        "id": "q8yPicNGSPMx"
      }
    },
    {
      "cell_type": "markdown",
      "source": [
        "| Data Science Tools      |\n",
        "|-------------------------|\n",
        "| Jupyter Notebook         |\n",
        "| RStudio                  |\n",
        "| Apache Zeppelin          |\n"
      ],
      "metadata": {
        "id": "YkVaEbqjSoA3"
      }
    },
    {
      "cell_type": "markdown",
      "source": [
        "### Below are a few examples of evaluating arithmetic expressions in Python."
      ],
      "metadata": {
        "id": "UW5AImVlVCK7"
      }
    },
    {
      "cell_type": "code",
      "source": [
        "# This is a simple arithmetic expression to multiply then add integers.\n",
        "result = (3 * 4) + 5\n",
        "result"
      ],
      "metadata": {
        "colab": {
          "base_uri": "https://localhost:8080/"
        },
        "id": "TfN6WYCsX0AP",
        "outputId": "eec988f4-5e34-4012-e257-fa9d59bab260"
      },
      "execution_count": 2,
      "outputs": [
        {
          "output_type": "execute_result",
          "data": {
            "text/plain": [
              "17"
            ]
          },
          "metadata": {},
          "execution_count": 2
        }
      ]
    },
    {
      "cell_type": "code",
      "source": [
        "# This will convert 200 minutes to hours by dividing by 60.\n",
        "hours = 200 / 60\n",
        "hours"
      ],
      "metadata": {
        "colab": {
          "base_uri": "https://localhost:8080/"
        },
        "id": "oYJZZjHCYDjn",
        "outputId": "bb75d20d-3f94-4433-b6b5-d48920cb4209"
      },
      "execution_count": 3,
      "outputs": [
        {
          "output_type": "execute_result",
          "data": {
            "text/plain": [
              "3.3333333333333335"
            ]
          },
          "metadata": {},
          "execution_count": 3
        }
      ]
    },
    {
      "cell_type": "markdown",
      "source": [
        "##Autor\n",
        "Saja Abusafia"
      ],
      "metadata": {
        "id": "wncgdPQeYnnM"
      }
    }
  ]
}